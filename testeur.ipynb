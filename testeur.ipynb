{
 "cells": [
  {
   "cell_type": "markdown",
   "id": "ceb47460",
   "metadata": {},
   "source": [
    "# /val"
   ]
  },
  {
   "cell_type": "code",
   "execution_count": 52,
   "id": "c2c58f6d",
   "metadata": {
    "ExecuteTime": {
     "end_time": "2023-05-23T14:45:35.394710Z",
     "start_time": "2023-05-23T14:45:33.336391Z"
    }
   },
   "outputs": [
    {
     "name": "stdout",
     "output_type": "stream",
     "text": [
      "89\n",
      "<class 'str'>\n",
      "b'89'\n",
      "<class 'bytes'>\n"
     ]
    }
   ],
   "source": [
    "import requests\n",
    "\n",
    "url = \"http://localhost:8000/val\"\n",
    "\n",
    "reponse = requests.get(url)\n",
    "print(reponse.text)\n",
    "print(type(reponse.text))\n",
    "print(reponse.content)\n",
    "print(type(reponse.content))\n"
   ]
  },
  {
   "cell_type": "markdown",
   "id": "7dc8adbe",
   "metadata": {},
   "source": [
    "# /val?nb=n"
   ]
  },
  {
   "cell_type": "code",
   "execution_count": 53,
   "id": "637fab16",
   "metadata": {
    "ExecuteTime": {
     "end_time": "2023-05-23T14:45:39.123044Z",
     "start_time": "2023-05-23T14:45:37.072041Z"
    }
   },
   "outputs": [
    {
     "name": "stdout",
     "output_type": "stream",
     "text": [
      "{\"0\":-90,\"1\":663,\"2\":403,\"3\":-847}\n",
      "<class 'str'>\n",
      "b'{\"0\":-90,\"1\":663,\"2\":403,\"3\":-847}'\n",
      "<class 'bytes'>\n"
     ]
    }
   ],
   "source": [
    "import requests\n",
    "\n",
    "n = 4\n",
    "url = f\"http://localhost:8000/val?nb={n}\"\n",
    "\n",
    "reponse = requests.get(url)\n",
    "print(reponse.text)\n",
    "print(type(reponse.text))\n",
    "print(reponse.content)\n",
    "print(type(reponse.content))\n"
   ]
  },
  {
   "cell_type": "markdown",
   "id": "ccc1e367",
   "metadata": {},
   "source": [
    "# /stations_velo?id=n"
   ]
  },
  {
   "cell_type": "code",
   "execution_count": 55,
   "id": "68fc7652",
   "metadata": {
    "ExecuteTime": {
     "end_time": "2023-05-23T14:46:26.041705Z",
     "start_time": "2023-05-23T14:46:23.920728Z"
    }
   },
   "outputs": [
    {
     "name": "stdout",
     "output_type": "stream",
     "text": [
      "{\"address\":\"Avenue Fontaine Argent angle rue Beauregard\",\"capacity\":11,\"lat\":47.244985,\"lon\":6.032536,\"name\":\"16 - BEAUREGARD\",\"station_id\":\"16\"}\n",
      "<class 'str'>\n",
      "b'{\"address\":\"Avenue Fontaine Argent angle rue Beauregard\",\"capacity\":11,\"lat\":47.244985,\"lon\":6.032536,\"name\":\"16 - BEAUREGARD\",\"station_id\":\"16\"}'\n",
      "<class 'bytes'>\n"
     ]
    }
   ],
   "source": [
    "import requests\n",
    "\n",
    "n = 16\n",
    "url = f\"http://localhost:8000/stations_velo?id={n}\"\n",
    "\n",
    "reponse = requests.get(url)\n",
    "print(reponse.text)\n",
    "print(type(reponse.text))\n",
    "print(reponse.content)\n",
    "print(type(reponse.content))\n"
   ]
  },
  {
   "cell_type": "markdown",
   "id": "11807b13",
   "metadata": {},
   "source": [
    "# /stations_velo?id=n&addr"
   ]
  },
  {
   "cell_type": "code",
   "execution_count": 56,
   "id": "0742ccf5",
   "metadata": {
    "ExecuteTime": {
     "end_time": "2023-05-23T14:46:30.156860Z",
     "start_time": "2023-05-23T14:46:27.992132Z"
    }
   },
   "outputs": [
    {
     "name": "stdout",
     "output_type": "stream",
     "text": [
      "\"Avenue Fontaine Argent angle rue Beauregard\"\n",
      "<class 'str'>\n",
      "b'\"Avenue Fontaine Argent angle rue Beauregard\"'\n",
      "<class 'bytes'>\n"
     ]
    }
   ],
   "source": [
    "import requests\n",
    "\n",
    "n = 16\n",
    "url = f\"http://localhost:8000/stations_velo?id={n}&addr\"\n",
    "\n",
    "reponse = requests.get(url)\n",
    "print(reponse.text)\n",
    "print(type(reponse.text))\n",
    "print(reponse.content)\n",
    "print(type(reponse.content))"
   ]
  },
  {
   "cell_type": "markdown",
   "id": "ffa70938",
   "metadata": {},
   "source": [
    "# /stations_velo?id=n&cap"
   ]
  },
  {
   "cell_type": "code",
   "execution_count": 57,
   "id": "699050fe",
   "metadata": {
    "ExecuteTime": {
     "end_time": "2023-05-23T14:46:34.051613Z",
     "start_time": "2023-05-23T14:46:31.912821Z"
    }
   },
   "outputs": [
    {
     "name": "stdout",
     "output_type": "stream",
     "text": [
      "11\n",
      "<class 'str'>\n",
      "b'11'\n",
      "<class 'bytes'>\n"
     ]
    }
   ],
   "source": [
    "import requests\n",
    "\n",
    "n = 16\n",
    "url = f\"http://localhost:8000/stations_velo?id={n}&cap\"\n",
    "\n",
    "reponse = requests.get(url)\n",
    "print(reponse.text)\n",
    "print(type(reponse.text))\n",
    "print(reponse.content)\n",
    "print(type(reponse.content))"
   ]
  },
  {
   "cell_type": "markdown",
   "id": "89b06ad7",
   "metadata": {},
   "source": [
    "# /stations_velo?id=toutes&cap"
   ]
  },
  {
   "cell_type": "code",
   "execution_count": 58,
   "id": "2ea79fa3",
   "metadata": {
    "ExecuteTime": {
     "end_time": "2023-05-23T14:46:37.753503Z",
     "start_time": "2023-05-23T14:46:35.575992Z"
    }
   },
   "outputs": [
    {
     "name": "stdout",
     "output_type": "stream",
     "text": [
      "400\n",
      "<class 'str'>\n",
      "b'400'\n",
      "<class 'bytes'>\n"
     ]
    }
   ],
   "source": [
    "import requests\n",
    "\n",
    "url = \"http://localhost:8000/stations_velo?id=toutes&cap\"\n",
    "\n",
    "reponse = requests.get(url)\n",
    "print(reponse.text)\n",
    "print(type(reponse.text))\n",
    "print(reponse.content)\n",
    "print(type(reponse.content))"
   ]
  },
  {
   "cell_type": "markdown",
   "id": "7f7867ca",
   "metadata": {},
   "source": [
    "# /stations_velo/n/addr"
   ]
  },
  {
   "cell_type": "code",
   "execution_count": 59,
   "id": "7dd61715",
   "metadata": {
    "ExecuteTime": {
     "end_time": "2023-05-23T14:46:42.561527Z",
     "start_time": "2023-05-23T14:46:40.432286Z"
    }
   },
   "outputs": [
    {
     "name": "stdout",
     "output_type": "stream",
     "text": [
      "\"Avenue Fontaine Argent angle rue Beauregard\"\n",
      "<class 'str'>\n",
      "b'\"Avenue Fontaine Argent angle rue Beauregard\"'\n",
      "<class 'bytes'>\n"
     ]
    }
   ],
   "source": [
    "import requests\n",
    "\n",
    "n = 16\n",
    "url = f\"http://localhost:8000/stations_velo/{n}/addr\"\n",
    "\n",
    "reponse = requests.get(url)\n",
    "print(reponse.text)\n",
    "print(type(reponse.text))\n",
    "print(reponse.content)\n",
    "print(type(reponse.content))"
   ]
  },
  {
   "cell_type": "markdown",
   "id": "5b64d2dd",
   "metadata": {},
   "source": [
    "# /stations_velo/n/cap"
   ]
  },
  {
   "cell_type": "code",
   "execution_count": 51,
   "id": "e071f602",
   "metadata": {
    "ExecuteTime": {
     "end_time": "2023-05-23T14:44:50.514350Z",
     "start_time": "2023-05-23T14:44:48.376276Z"
    }
   },
   "outputs": [
    {
     "name": "stdout",
     "output_type": "stream",
     "text": [
      "11\n",
      "<class 'str'>\n",
      "b'11'\n",
      "<class 'bytes'>\n"
     ]
    }
   ],
   "source": [
    "import requests\n",
    "\n",
    "n = 16\n",
    "url = f\"http://localhost:8000/stations_velo/{n}/cap\"\n",
    "\n",
    "reponse = requests.get(url)\n",
    "print(reponse.text)\n",
    "print(type(reponse.text))\n",
    "print(reponse.content)\n",
    "print(type(reponse.content))"
   ]
  },
  {
   "cell_type": "markdown",
   "id": "2922de6f",
   "metadata": {},
   "source": [
    "# /stations_velo/toutes/cap"
   ]
  },
  {
   "cell_type": "code",
   "execution_count": 50,
   "id": "4659f3f7",
   "metadata": {
    "ExecuteTime": {
     "end_time": "2023-05-23T14:44:43.778630Z",
     "start_time": "2023-05-23T14:44:41.624268Z"
    }
   },
   "outputs": [
    {
     "name": "stdout",
     "output_type": "stream",
     "text": [
      "{\"total\":400,\"16\":11,\"30\":12,\"2\":10,\"26\":10,\"14\":10,\"22\":12,\"23\":12,\"27\":15,\"24\":10,\"4\":11,\"1\":30,\"17\":14,\"21\":12,\"10\":15,\"28\":10,\"15\":10,\"9\":20,\"13\":14,\"3\":15,\"6\":15,\"5\":10,\"7\":18,\"29\":12,\"8\":10,\"18\":20,\"19\":10,\"12\":15,\"25\":12,\"20\":15,\"11\":10}\n",
      "<class 'str'>\n",
      "b'{\"total\":400,\"16\":11,\"30\":12,\"2\":10,\"26\":10,\"14\":10,\"22\":12,\"23\":12,\"27\":15,\"24\":10,\"4\":11,\"1\":30,\"17\":14,\"21\":12,\"10\":15,\"28\":10,\"15\":10,\"9\":20,\"13\":14,\"3\":15,\"6\":15,\"5\":10,\"7\":18,\"29\":12,\"8\":10,\"18\":20,\"19\":10,\"12\":15,\"25\":12,\"20\":15,\"11\":10}'\n",
      "<class 'bytes'>\n"
     ]
    }
   ],
   "source": [
    "import requests\n",
    "\n",
    "n = 16\n",
    "url = f\"http://localhost:8000/stations_velo/toutes/cap\"\n",
    "\n",
    "reponse = requests.get(url)\n",
    "print(reponse.text)\n",
    "print(type(reponse.text))\n",
    "print(reponse.content)\n",
    "print(type(reponse.content))"
   ]
  }
 ],
 "metadata": {
  "kernelspec": {
   "display_name": "Python 3 (ipykernel)",
   "language": "python",
   "name": "python3"
  },
  "language_info": {
   "codemirror_mode": {
    "name": "ipython",
    "version": 3
   },
   "file_extension": ".py",
   "mimetype": "text/x-python",
   "name": "python",
   "nbconvert_exporter": "python",
   "pygments_lexer": "ipython3",
   "version": "3.10.11"
  }
 },
 "nbformat": 4,
 "nbformat_minor": 5
}
