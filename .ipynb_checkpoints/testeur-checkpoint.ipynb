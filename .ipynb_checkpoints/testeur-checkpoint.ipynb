{
 "cells": [
  {
   "cell_type": "markdown",
   "id": "77999c08",
   "metadata": {},
   "source": [
    "# /val"
   ]
  },
  {
   "cell_type": "code",
   "execution_count": 6,
   "id": "c2c58f6d",
   "metadata": {
    "ExecuteTime": {
     "end_time": "2023-05-23T13:48:06.082893Z",
     "start_time": "2023-05-23T13:48:04.011361Z"
    }
   },
   "outputs": [
    {
     "name": "stdout",
     "output_type": "stream",
     "text": [
      "82\n",
      "<class 'str'>\n",
      "b'82'\n",
      "<class 'bytes'>\n"
     ]
    }
   ],
   "source": [
    "import requests\n",
    "\n",
    "url = \"http://localhost:8000/val\"\n",
    "\n",
    "reponse = requests.get(url)\n",
    "print(reponse.text)\n",
    "print(type(reponse.text))\n",
    "print(reponse.content)\n",
    "print(type(reponse.content))\n"
   ]
  },
  {
   "cell_type": "markdown",
   "id": "21c8078a",
   "metadata": {},
   "source": [
    "# /val?nb=n"
   ]
  },
  {
   "cell_type": "code",
   "execution_count": 9,
   "id": "357bc030",
   "metadata": {
    "ExecuteTime": {
     "end_time": "2023-05-23T13:57:08.907874Z",
     "start_time": "2023-05-23T13:57:06.834071Z"
    }
   },
   "outputs": [
    {
     "name": "stdout",
     "output_type": "stream",
     "text": [
      "{\"0\":561,\"1\":232,\"2\":395,\"3\":-50}\n",
      "<class 'str'>\n",
      "b'{\"0\":561,\"1\":232,\"2\":395,\"3\":-50}'\n",
      "<class 'bytes'>\n"
     ]
    }
   ],
   "source": [
    "import requests\n",
    "\n",
    "n = 4\n",
    "url = f\"http://localhost:8000/val?nb={n}\"\n",
    "\n",
    "reponse = requests.get(url)\n",
    "print(reponse.text)\n",
    "print(type(reponse.text))\n",
    "print(reponse.content)\n",
    "print(type(reponse.content))\n"
   ]
  },
  {
   "cell_type": "markdown",
   "id": "b2434060",
   "metadata": {},
   "source": [
    "# /stations_velo?id=n"
   ]
  },
  {
   "cell_type": "code",
   "execution_count": 35,
   "id": "bdef0abd",
   "metadata": {
    "ExecuteTime": {
     "end_time": "2023-05-23T14:23:31.515396Z",
     "start_time": "2023-05-23T14:23:29.364398Z"
    }
   },
   "outputs": [
    {
     "name": "stdout",
     "output_type": "stream",
     "text": [
      "{\"address\":\"Avenue Fontaine Argent angle rue Beauregard\",\"capacity\":11,\"lat\":47.244985,\"lon\":6.032536,\"name\":\"16 - BEAUREGARD\",\"station_id\":\"16\"}\n",
      "<class 'str'>\n",
      "b'{\"address\":\"Avenue Fontaine Argent angle rue Beauregard\",\"capacity\":11,\"lat\":47.244985,\"lon\":6.032536,\"name\":\"16 - BEAUREGARD\",\"station_id\":\"16\"}'\n",
      "<class 'bytes'>\n"
     ]
    }
   ],
   "source": [
    "import requests\n",
    "\n",
    "n = 16\n",
    "url = f\"http://localhost:8000/stations_velo?id={n}\"\n",
    "\n",
    "reponse = requests.get(url)\n",
    "print(reponse.text)\n",
    "print(type(reponse.text))\n",
    "print(reponse.content)\n",
    "print(type(reponse.content))\n"
   ]
  },
  {
   "cell_type": "markdown",
   "id": "df55ec9e",
   "metadata": {},
   "source": [
    "# /stations_velo?id=n&addr"
   ]
  },
  {
   "cell_type": "code",
   "execution_count": 38,
   "id": "77fb6296",
   "metadata": {
    "ExecuteTime": {
     "end_time": "2023-05-23T14:28:36.608701Z",
     "start_time": "2023-05-23T14:28:34.474074Z"
    }
   },
   "outputs": [
    {
     "name": "stdout",
     "output_type": "stream",
     "text": [
      "\"Avenue Fontaine Argent angle rue Beauregard\"\n",
      "<class 'str'>\n",
      "b'\"Avenue Fontaine Argent angle rue Beauregard\"'\n",
      "<class 'bytes'>\n"
     ]
    }
   ],
   "source": [
    "import requests\n",
    "\n",
    "n = 16\n",
    "url = f\"http://localhost:8000/stations_velo?id={n}&addr\"\n",
    "\n",
    "reponse = requests.get(url)\n",
    "print(reponse.text)\n",
    "print(type(reponse.text))\n",
    "print(reponse.content)\n",
    "print(type(reponse.content))"
   ]
  },
  {
   "cell_type": "markdown",
   "id": "8089c5f2",
   "metadata": {},
   "source": [
    "# /stations_velo?id=n&cap"
   ]
  },
  {
   "cell_type": "code",
   "execution_count": 39,
   "id": "02069ff8",
   "metadata": {
    "ExecuteTime": {
     "end_time": "2023-05-23T14:31:25.982925Z",
     "start_time": "2023-05-23T14:31:23.843262Z"
    }
   },
   "outputs": [
    {
     "name": "stdout",
     "output_type": "stream",
     "text": [
      "11\n",
      "<class 'str'>\n",
      "b'11'\n",
      "<class 'bytes'>\n"
     ]
    }
   ],
   "source": [
    "import requests\n",
    "\n",
    "n = 16\n",
    "url = f\"http://localhost:8000/stations_velo?id={n}&cap\"\n",
    "\n",
    "reponse = requests.get(url)\n",
    "print(reponse.text)\n",
    "print(type(reponse.text))\n",
    "print(reponse.content)\n",
    "print(type(reponse.content))"
   ]
  },
  {
   "cell_type": "markdown",
   "id": "c4b5ce7a",
   "metadata": {},
   "source": [
    "# /stations_velo?id=toutes&cap"
   ]
  },
  {
   "cell_type": "code",
   "execution_count": 44,
   "id": "d2a1d9a4",
   "metadata": {
    "ExecuteTime": {
     "end_time": "2023-05-23T14:36:08.263309Z",
     "start_time": "2023-05-23T14:36:06.114347Z"
    }
   },
   "outputs": [
    {
     "name": "stdout",
     "output_type": "stream",
     "text": [
      "400\n",
      "<class 'str'>\n",
      "b'400'\n",
      "<class 'bytes'>\n"
     ]
    }
   ],
   "source": [
    "import requests\n",
    "\n",
    "url = \"http://localhost:8000/stations_velo?id=toutes&cap\"\n",
    "\n",
    "reponse = requests.get(url)\n",
    "print(reponse.text)\n",
    "print(type(reponse.text))\n",
    "print(reponse.content)\n",
    "print(type(reponse.content))"
   ]
  },
  {
   "cell_type": "markdown",
   "id": "9643bf55",
   "metadata": {},
   "source": [
    "# /stations_velo/n/addr"
   ]
  },
  {
   "cell_type": "code",
   "execution_count": 46,
   "id": "defbc4d1",
   "metadata": {
    "ExecuteTime": {
     "end_time": "2023-05-23T14:41:04.434245Z",
     "start_time": "2023-05-23T14:41:02.264826Z"
    }
   },
   "outputs": [
    {
     "name": "stdout",
     "output_type": "stream",
     "text": [
      "\"Avenue Fontaine Argent angle rue Beauregard\"\n",
      "<class 'str'>\n",
      "b'\"Avenue Fontaine Argent angle rue Beauregard\"'\n",
      "<class 'bytes'>\n"
     ]
    }
   ],
   "source": [
    "import requests\n",
    "\n",
    "n = 16\n",
    "url = f\"http://localhost:8000/stations_velo/{n}/addr\"\n",
    "\n",
    "reponse = requests.get(url)\n",
    "print(reponse.text)\n",
    "print(type(reponse.text))\n",
    "print(reponse.content)\n",
    "print(type(reponse.content))"
   ]
  },
  {
   "cell_type": "markdown",
   "id": "7a73ea7e",
   "metadata": {},
   "source": [
    "# /stations_velo/n/cap"
   ]
  },
  {
   "cell_type": "code",
   "execution_count": 51,
   "id": "7940c9dc",
   "metadata": {
    "ExecuteTime": {
     "end_time": "2023-05-23T14:44:50.514350Z",
     "start_time": "2023-05-23T14:44:48.376276Z"
    }
   },
   "outputs": [
    {
     "name": "stdout",
     "output_type": "stream",
     "text": [
      "11\n",
      "<class 'str'>\n",
      "b'11'\n",
      "<class 'bytes'>\n"
     ]
    }
   ],
   "source": [
    "import requests\n",
    "\n",
    "n = 16\n",
    "url = f\"http://localhost:8000/stations_velo/{n}/cap\"\n",
    "\n",
    "reponse = requests.get(url)\n",
    "print(reponse.text)\n",
    "print(type(reponse.text))\n",
    "print(reponse.content)\n",
    "print(type(reponse.content))"
   ]
  },
  {
   "cell_type": "markdown",
   "id": "640bd395",
   "metadata": {},
   "source": [
    "# /stations_velo/toutes/cap"
   ]
  },
  {
   "cell_type": "code",
   "execution_count": 50,
   "id": "d31b04b3",
   "metadata": {
    "ExecuteTime": {
     "end_time": "2023-05-23T14:44:43.778630Z",
     "start_time": "2023-05-23T14:44:41.624268Z"
    }
   },
   "outputs": [
    {
     "name": "stdout",
     "output_type": "stream",
     "text": [
      "{\"total\":400,\"16\":11,\"30\":12,\"2\":10,\"26\":10,\"14\":10,\"22\":12,\"23\":12,\"27\":15,\"24\":10,\"4\":11,\"1\":30,\"17\":14,\"21\":12,\"10\":15,\"28\":10,\"15\":10,\"9\":20,\"13\":14,\"3\":15,\"6\":15,\"5\":10,\"7\":18,\"29\":12,\"8\":10,\"18\":20,\"19\":10,\"12\":15,\"25\":12,\"20\":15,\"11\":10}\n",
      "<class 'str'>\n",
      "b'{\"total\":400,\"16\":11,\"30\":12,\"2\":10,\"26\":10,\"14\":10,\"22\":12,\"23\":12,\"27\":15,\"24\":10,\"4\":11,\"1\":30,\"17\":14,\"21\":12,\"10\":15,\"28\":10,\"15\":10,\"9\":20,\"13\":14,\"3\":15,\"6\":15,\"5\":10,\"7\":18,\"29\":12,\"8\":10,\"18\":20,\"19\":10,\"12\":15,\"25\":12,\"20\":15,\"11\":10}'\n",
      "<class 'bytes'>\n"
     ]
    }
   ],
   "source": [
    "import requests\n",
    "\n",
    "n = 16\n",
    "url = f\"http://localhost:8000/stations_velo/toutes/cap\"\n",
    "\n",
    "reponse = requests.get(url)\n",
    "print(reponse.text)\n",
    "print(type(reponse.text))\n",
    "print(reponse.content)\n",
    "print(type(reponse.content))"
   ]
  }
 ],
 "metadata": {
  "kernelspec": {
   "display_name": "Python 3 (ipykernel)",
   "language": "python",
   "name": "python3"
  },
  "language_info": {
   "codemirror_mode": {
    "name": "ipython",
    "version": 3
   },
   "file_extension": ".py",
   "mimetype": "text/x-python",
   "name": "python",
   "nbconvert_exporter": "python",
   "pygments_lexer": "ipython3",
   "version": "3.10.11"
  }
 },
 "nbformat": 4,
 "nbformat_minor": 5
}
