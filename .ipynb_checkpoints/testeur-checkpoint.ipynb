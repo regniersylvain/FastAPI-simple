{
 "cells": [
  {
   "cell_type": "markdown",
   "id": "793bcc0e",
   "metadata": {},
   "source": [
    "# /val\n",
    "\n",
    "qui retourne une valeur entière aléatoire comprise entre 0 et 100"
   ]
  },
  {
   "cell_type": "code",
   "execution_count": 3,
   "id": "c2c58f6d",
   "metadata": {
    "ExecuteTime": {
     "end_time": "2023-05-30T12:26:04.054078Z",
     "start_time": "2023-05-30T12:26:01.981196Z"
    }
   },
   "outputs": [
    {
     "name": "stdout",
     "output_type": "stream",
     "text": [
      "52\n"
     ]
    }
   ],
   "source": [
    "import requests\n",
    "\n",
    "url = \"http://localhost:8000/val\"\n",
    "\n",
    "reponse = requests.get(url)\n",
    "print(reponse.text)\n"
   ]
  },
  {
   "cell_type": "markdown",
   "id": "336a877d",
   "metadata": {},
   "source": [
    "# /val?nb=n\n",
    "\n",
    "(où n est un nombre entier positif) qui retourne du code json contenant un tableau de n valeurs entières aléatoires comprises en -1000 et +1000"
   ]
  },
  {
   "cell_type": "code",
   "execution_count": 4,
   "id": "5a8e7252",
   "metadata": {
    "ExecuteTime": {
     "end_time": "2023-05-30T12:26:12.341499Z",
     "start_time": "2023-05-30T12:26:10.268751Z"
    }
   },
   "outputs": [
    {
     "name": "stdout",
     "output_type": "stream",
     "text": [
      "[669,-598,147,592]\n"
     ]
    }
   ],
   "source": [
    "import requests\n",
    "\n",
    "n = 4\n",
    "url = f\"http://localhost:8000/val?nb={n}\"\n",
    "\n",
    "reponse = requests.get(url)\n",
    "print(reponse.text)\n"
   ]
  },
  {
   "cell_type": "markdown",
   "id": "3576c4b8",
   "metadata": {},
   "source": [
    "# /calc/add?n1=n&n2=m\n",
    "\n",
    "(où n et m sont des nombres entiers positifs) retourne un simple texte contenant le résultat de l’addition de n et m"
   ]
  },
  {
   "cell_type": "code",
   "execution_count": 7,
   "id": "665ad3db",
   "metadata": {
    "ExecuteTime": {
     "end_time": "2023-05-30T12:29:10.342450Z",
     "start_time": "2023-05-30T12:29:08.285653Z"
    }
   },
   "outputs": [
    {
     "name": "stdout",
     "output_type": "stream",
     "text": [
      "9\n"
     ]
    }
   ],
   "source": [
    "import requests\n",
    "\n",
    "n = 4\n",
    "m = 5\n",
    "url = f\"http://localhost:8000/calc/add?n1={n}&n2={m}\"\n",
    "\n",
    "reponse = requests.get(url)\n",
    "print(reponse.text)"
   ]
  },
  {
   "cell_type": "markdown",
   "id": "6bcf94da",
   "metadata": {},
   "source": [
    "# /calc/prod?n1=n&n2=m\n",
    "(où n et m sont des nombres entiers positifs) retourne un code HTML mis en forme qui présente dans un navigateur le calcul du produit de n et m sous la forme 4 x 5 = 20"
   ]
  },
  {
   "cell_type": "code",
   "execution_count": 8,
   "id": "cec5fd37",
   "metadata": {
    "ExecuteTime": {
     "end_time": "2023-05-30T12:29:58.136815Z",
     "start_time": "2023-05-30T12:29:56.077483Z"
    }
   },
   "outputs": [
    {
     "name": "stdout",
     "output_type": "stream",
     "text": [
      "<html><head></head><body><h1> 4 x 5 = 20</h1></body></html>\n"
     ]
    }
   ],
   "source": [
    "import requests\n",
    "\n",
    "n = 4\n",
    "m = 5\n",
    "url = f\"http://localhost:8000/calc/prod?n1={n}&n2={m}\"\n",
    "\n",
    "reponse = requests.get(url)\n",
    "print(reponse.text)"
   ]
  },
  {
   "cell_type": "markdown",
   "id": "cad019de",
   "metadata": {},
   "source": [
    "# /img?num=n \n",
    "(où n vaut un chiffre compris en 1 et 9) pour retourner une des 9 images possibles, que vous retournerez depuis le lien suivant : https://www.juleshaag.fr/devIA/devAPI/1.png (pour l’image n°1, par exemple) sans les télécharger et les intégrer à votre serveur local, car elles peuvent être amenées à changer..."
   ]
  },
  {
   "cell_type": "code",
   "execution_count": 29,
   "id": "8c437c7f",
   "metadata": {
    "ExecuteTime": {
     "end_time": "2023-05-30T12:48:04.542595Z",
     "start_time": "2023-05-30T12:48:02.274819Z"
    }
   },
   "outputs": [
    {
     "data": {
      "image/png": "[encoded data removed]",
      "text/plain": [
       "<Figure size 640x480 with 1 Axes>"
      ]
     },
     "metadata": {},
     "output_type": "display_data"
    }
   ],
   "source": [
    "import requests\n",
    "import matplotlib.pyplot as plt\n",
    "import matplotlib.image as mpimg\n",
    "import io\n",
    "\n",
    "n = 2\n",
    "url = f\"http://localhost:8000/img?num={n}\"\n",
    "\n",
    "reponse = requests.get(url)\n",
    "\n",
    "fp = io.BytesIO(reponse.content)\n",
    "\n",
    "with fp:\n",
    "    img = mpimg.imread(fp, format='png')\n",
    "plt.imshow(img)\n",
    "plt.show()"
   ]
  },
  {
   "cell_type": "markdown",
   "id": "74fb4281",
   "metadata": {},
   "source": [
    "# /stations_velo?id=n\n",
    "\n",
    "retourne l’ensemble des infos sur la station n (sous forme d’un document json) prises dans le document json : https://www.juleshaag.fr/devIA/devAPI/station_information.json qui contient les infos des stations de vélo en libre service de Besançon. (le fichier devra être lu sur la source sans le télécharger pour l’intégrer à votre serveur local, car il peut être amené à changer...)\n"
   ]
  },
  {
   "cell_type": "code",
   "execution_count": 28,
   "id": "c61c0ba8",
   "metadata": {
    "ExecuteTime": {
     "end_time": "2023-05-30T12:47:49.123926Z",
     "start_time": "2023-05-30T12:47:46.995200Z"
    }
   },
   "outputs": [
    {
     "data": {
      "text/plain": [
       "{'address': 'Avenue Fontaine Argent angle rue Beauregard',\n",
       " 'capacity': 11,\n",
       " 'lat': 47.244985,\n",
       " 'lon': 6.032536,\n",
       " 'name': '16 - BEAUREGARD',\n",
       " 'station_id': '16'}"
      ]
     },
     "execution_count": 28,
     "metadata": {},
     "output_type": "execute_result"
    }
   ],
   "source": [
    "import requests\n",
    "\n",
    "n = 16\n",
    "url = f\"http://localhost:8000/stations_velo?id={n}\"\n",
    "\n",
    "reponse = requests.get(url)\n",
    "eval(reponse.text)\n"
   ]
  },
  {
   "cell_type": "markdown",
   "id": "424ada92",
   "metadata": {},
   "source": [
    "# /stations_velo?id=n&addr\n",
    "\n",
    "qui retourne l’adresse de la station de vélo n, sous forme d’un texte"
   ]
  },
  {
   "cell_type": "code",
   "execution_count": 10,
   "id": "959f1fde",
   "metadata": {
    "ExecuteTime": {
     "end_time": "2023-05-30T12:30:42.579414Z",
     "start_time": "2023-05-30T12:30:40.445772Z"
    }
   },
   "outputs": [
    {
     "name": "stdout",
     "output_type": "stream",
     "text": [
      "\"Avenue Fontaine Argent angle rue Beauregard\"\n"
     ]
    }
   ],
   "source": [
    "import requests\n",
    "\n",
    "n = 16\n",
    "url = f\"http://localhost:8000/stations_velo?id={n}&addr\"\n",
    "\n",
    "reponse = requests.get(url)\n",
    "print(reponse.text)"
   ]
  },
  {
   "cell_type": "markdown",
   "id": "f0d2f33f",
   "metadata": {},
   "source": [
    "# /stations_velo?id=n&cap\n",
    "\n",
    "qui retourne la capacité de la station de vélo n, sous forme d’un nombre entier"
   ]
  },
  {
   "cell_type": "code",
   "execution_count": 11,
   "id": "716a9a9b",
   "metadata": {
    "ExecuteTime": {
     "end_time": "2023-05-30T12:30:54.815098Z",
     "start_time": "2023-05-30T12:30:52.676766Z"
    }
   },
   "outputs": [
    {
     "name": "stdout",
     "output_type": "stream",
     "text": [
      "11\n"
     ]
    }
   ],
   "source": [
    "import requests\n",
    "\n",
    "n = 16\n",
    "url = f\"http://localhost:8000/stations_velo?id={n}&cap\"\n",
    "\n",
    "reponse = requests.get(url)\n",
    "print(reponse.text)"
   ]
  },
  {
   "cell_type": "markdown",
   "id": "1da159d0",
   "metadata": {},
   "source": [
    "# /stations_velo?id=toutes&cap\n",
    "qui retourne la capacité totale de l’ensemble des stations contenues dans le fichier"
   ]
  },
  {
   "cell_type": "code",
   "execution_count": 12,
   "id": "33faf3c1",
   "metadata": {
    "ExecuteTime": {
     "end_time": "2023-05-30T12:31:16.928612Z",
     "start_time": "2023-05-30T12:31:14.804839Z"
    }
   },
   "outputs": [
    {
     "name": "stdout",
     "output_type": "stream",
     "text": [
      "400\n"
     ]
    }
   ],
   "source": [
    "import requests\n",
    "\n",
    "url = \"http://localhost:8000/stations_velo?id=toutes&cap\"\n",
    "\n",
    "reponse = requests.get(url)\n",
    "print(reponse.text)"
   ]
  },
  {
   "cell_type": "markdown",
   "id": "e9cdc5d8",
   "metadata": {},
   "source": [
    "# /stations_velo/n/addr \n",
    "(c'est un endpoint qui est une variante du précédent) qui retourne l’adresse de la station de vélo n, sous forme d’un texte"
   ]
  },
  {
   "cell_type": "code",
   "execution_count": 13,
   "id": "f8b189ed",
   "metadata": {
    "ExecuteTime": {
     "end_time": "2023-05-30T12:32:05.818558Z",
     "start_time": "2023-05-30T12:32:03.669481Z"
    }
   },
   "outputs": [
    {
     "name": "stdout",
     "output_type": "stream",
     "text": [
      "\"Avenue Fontaine Argent angle rue Beauregard\"\n"
     ]
    }
   ],
   "source": [
    "import requests\n",
    "\n",
    "n = 16\n",
    "url = f\"http://localhost:8000/stations_velo/{n}/addr\"\n",
    "\n",
    "reponse = requests.get(url)\n",
    "print(reponse.text)"
   ]
  },
  {
   "cell_type": "markdown",
   "id": "934871b4",
   "metadata": {},
   "source": [
    "# /stations_velo/n/cap\n",
    "qui retourne la capacité de la station de vélo n, sous forme d’un nombre entier"
   ]
  },
  {
   "cell_type": "code",
   "execution_count": 14,
   "id": "0b4e2677",
   "metadata": {
    "ExecuteTime": {
     "end_time": "2023-05-30T12:32:35.244238Z",
     "start_time": "2023-05-30T12:32:33.124617Z"
    }
   },
   "outputs": [
    {
     "name": "stdout",
     "output_type": "stream",
     "text": [
      "11\n"
     ]
    }
   ],
   "source": [
    "import requests\n",
    "\n",
    "n = 16\n",
    "url = f\"http://localhost:8000/stations_velo/{n}/cap\"\n",
    "\n",
    "reponse = requests.get(url)\n",
    "print(reponse.text)"
   ]
  },
  {
   "cell_type": "markdown",
   "id": "1c3931c9",
   "metadata": {},
   "source": [
    "# /stations_velo/toutes/cap\n",
    "qui retourne un json contenant, par id, la capacité de chaque station ainsi que la capacité de l’ensemble des stations contenues dans le fichier"
   ]
  },
  {
   "cell_type": "code",
   "execution_count": 22,
   "id": "73a1c823",
   "metadata": {
    "ExecuteTime": {
     "end_time": "2023-05-30T12:35:35.531008Z",
     "start_time": "2023-05-30T12:35:33.164224Z"
    }
   },
   "outputs": [
    {
     "data": {
      "text/plain": [
       "{'total': 400,\n",
       " '16': 11,\n",
       " '30': 12,\n",
       " '2': 10,\n",
       " '26': 10,\n",
       " '14': 10,\n",
       " '22': 12,\n",
       " '23': 12,\n",
       " '27': 15,\n",
       " '24': 10,\n",
       " '4': 11,\n",
       " '1': 30,\n",
       " '17': 14,\n",
       " '21': 12,\n",
       " '10': 15,\n",
       " '28': 10,\n",
       " '15': 10,\n",
       " '9': 20,\n",
       " '13': 14,\n",
       " '3': 15,\n",
       " '6': 15,\n",
       " '5': 10,\n",
       " '7': 18,\n",
       " '29': 12,\n",
       " '8': 10,\n",
       " '18': 20,\n",
       " '19': 10,\n",
       " '12': 15,\n",
       " '25': 12,\n",
       " '20': 15,\n",
       " '11': 10}"
      ]
     },
     "execution_count": 22,
     "metadata": {},
     "output_type": "execute_result"
    }
   ],
   "source": [
    "import requests\n",
    "\n",
    "n = 16\n",
    "url = f\"http://localhost:8000/stations_velo/toutes/cap\"\n",
    "\n",
    "reponse = requests.get(url)\n",
    "eval(reponse.text)"
   ]
  }
 ],
 "metadata": {
  "kernelspec": {
   "display_name": "Python 3 (ipykernel)",
   "language": "python",
   "name": "python3"
  },
  "language_info": {
   "codemirror_mode": {
    "name": "ipython",
    "version": 3
   },
   "file_extension": ".py",
   "mimetype": "text/x-python",
   "name": "python",
   "nbconvert_exporter": "python",
   "pygments_lexer": "ipython3",
   "version": "3.10.11"
  }
 },
 "nbformat": 4,
 "nbformat_minor": 5
}
